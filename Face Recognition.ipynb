{
 "cells": [
  {
   "cell_type": "code",
   "execution_count": 1,
   "metadata": {},
   "outputs": [],
   "source": [
    "import numpy as np\n",
    "import cv2"
   ]
  },
  {
   "cell_type": "code",
   "execution_count": 2,
   "metadata": {},
   "outputs": [],
   "source": [
    "import face_recognition\n",
    "import os\n",
    "from datetime import datetime"
   ]
  },
  {
   "cell_type": "code",
   "execution_count": 3,
   "metadata": {},
   "outputs": [
    {
     "name": "stdout",
     "output_type": "stream",
     "text": [
      "['Alex@gmail.com.jpeg', 'bunhakunj86@gmail.com.jpeg', 'jainamkothari14@gmail.com.jpeg']\n"
     ]
    }
   ],
   "source": [
    "path=r\"C:\\Users\\Dell\\Desktop\\Jainam docs\\Deteccion de mascara\\Database Images\"\n",
    "personimages=[]\n",
    "emails=[]\n",
    "imagelist=os.listdir(path)\n",
    "print(imagelist)"
   ]
  },
  {
   "cell_type": "code",
   "execution_count": 4,
   "metadata": {},
   "outputs": [
    {
     "name": "stdout",
     "output_type": "stream",
     "text": [
      "['Alex@gmail.com', 'bunhakunj86@gmail.com', 'jainamkothari14@gmail.com']\n"
     ]
    }
   ],
   "source": [
    "for current_img in imagelist:\n",
    "    current=cv2.imread(f'{path}/{current_img}')\n",
    "#     print(current)\n",
    "    personimages.append(current)\n",
    "    name=os.path.splitext(current_img)\n",
    "#     print(name[0])\n",
    "    emails.append(name[0])\n",
    "\n",
    "print(emails)   "
   ]
  },
  {
   "cell_type": "code",
   "execution_count": 5,
   "metadata": {},
   "outputs": [],
   "source": [
    "def faceEncodings(images):\n",
    "    encodeList=[]\n",
    "    count=0\n",
    "    for img in images:\n",
    "        print(\"Generating Encodings for Image No : \",count)\n",
    "        count=count+1\n",
    "        img=cv2.cvtColor(img, cv2.COLOR_BGR2RGB)\n",
    "        encode=face_recognition.face_encodings(img)[0]\n",
    "        encodeList.append(encode)\n",
    "    return encodeList"
   ]
  },
  {
   "cell_type": "code",
   "execution_count": null,
   "metadata": {},
   "outputs": [],
   "source": []
  },
  {
   "cell_type": "code",
   "execution_count": 6,
   "metadata": {},
   "outputs": [
    {
     "name": "stdout",
     "output_type": "stream",
     "text": [
      "Generating Encodings for Image No :  0\n",
      "Generating Encodings for Image No :  1\n",
      "Generating Encodings for Image No :  2\n",
      "All Encodings completed : \n"
     ]
    }
   ],
   "source": [
    "enc=faceEncodings(personimages)\n",
    "print(\"All Encodings completed : \")"
   ]
  },
  {
   "cell_type": "code",
   "execution_count": 7,
   "metadata": {},
   "outputs": [],
   "source": [
    "cap=cv2.VideoCapture(0)"
   ]
  },
  {
   "cell_type": "code",
   "execution_count": null,
   "metadata": {},
   "outputs": [
    {
     "name": "stdout",
     "output_type": "stream",
     "text": [
      "JAINAMKOTHARI14@GMAIL.COM\n",
      "JAINAMKOTHARI14@GMAIL.COM\n",
      "JAINAMKOTHARI14@GMAIL.COM\n",
      "JAINAMKOTHARI14@GMAIL.COM\n",
      "JAINAMKOTHARI14@GMAIL.COM\n",
      "JAINAMKOTHARI14@GMAIL.COM\n",
      "JAINAMKOTHARI14@GMAIL.COM\n",
      "JAINAMKOTHARI14@GMAIL.COM\n",
      "JAINAMKOTHARI14@GMAIL.COM\n",
      "JAINAMKOTHARI14@GMAIL.COM\n",
      "JAINAMKOTHARI14@GMAIL.COM\n",
      "JAINAMKOTHARI14@GMAIL.COM\n",
      "JAINAMKOTHARI14@GMAIL.COM\n",
      "JAINAMKOTHARI14@GMAIL.COM\n",
      "JAINAMKOTHARI14@GMAIL.COM\n",
      "JAINAMKOTHARI14@GMAIL.COM\n",
      "JAINAMKOTHARI14@GMAIL.COM\n",
      "JAINAMKOTHARI14@GMAIL.COM\n",
      "JAINAMKOTHARI14@GMAIL.COM\n",
      "JAINAMKOTHARI14@GMAIL.COM\n",
      "JAINAMKOTHARI14@GMAIL.COM\n",
      "JAINAMKOTHARI14@GMAIL.COM\n",
      "JAINAMKOTHARI14@GMAIL.COM\n",
      "JAINAMKOTHARI14@GMAIL.COM\n",
      "JAINAMKOTHARI14@GMAIL.COM\n",
      "JAINAMKOTHARI14@GMAIL.COM\n",
      "JAINAMKOTHARI14@GMAIL.COM\n",
      "JAINAMKOTHARI14@GMAIL.COM\n",
      "JAINAMKOTHARI14@GMAIL.COM\n",
      "JAINAMKOTHARI14@GMAIL.COM\n",
      "JAINAMKOTHARI14@GMAIL.COM\n",
      "JAINAMKOTHARI14@GMAIL.COM\n",
      "JAINAMKOTHARI14@GMAIL.COM\n",
      "JAINAMKOTHARI14@GMAIL.COM\n",
      "JAINAMKOTHARI14@GMAIL.COM\n",
      "JAINAMKOTHARI14@GMAIL.COM\n",
      "JAINAMKOTHARI14@GMAIL.COM\n",
      "JAINAMKOTHARI14@GMAIL.COM\n",
      "JAINAMKOTHARI14@GMAIL.COM\n",
      "JAINAMKOTHARI14@GMAIL.COM\n"
     ]
    }
   ],
   "source": [
    "while True:\n",
    "    ret,frame=cap.read()\n",
    "    faces=cv2.resize(frame,(0,0),None,0.25,0.25)\n",
    "    faces=cv2.cvtColor(faces,cv2.COLOR_BGR2RGB)\n",
    "    \n",
    "    facesCurrentFrame = face_recognition.face_locations(faces)\n",
    "    encodesCurrentFrame = face_recognition.face_encodings(faces,facesCurrentFrame)\n",
    "    \n",
    "    for encodeFace,faceLoc in zip(encodesCurrentFrame,facesCurrentFrame) : \n",
    "        \n",
    "        matches = face_recognition.compare_faces(enc,encodeFace)\n",
    "        faceDis = face_recognition.face_distance(enc,encodeFace)\n",
    "        \n",
    "        matchIndex = np.argmin(faceDis)\n",
    "        \n",
    "        if matches[matchIndex] : \n",
    "            name=emails[matchIndex].upper()\n",
    "            print(name)\n",
    "            y1,x2,y2,x1=faceLoc\n",
    "            y1,x2,y2,x1=y1*4,x2*4,y2*4,x1*4\n",
    "            cv2.rectangle(frame,(x1,y1),(x2,y2),(0,0,255),2)\n",
    "            cv2.rectangle(frame,(x1,y2-35),(x2,y2),(0,0,255),cv2.FILLED)\n",
    "            cv2.putText(frame,name,(x1+6,y1+6),cv2.FONT_HERSHEY_COMPLEX, 1, (0,0,255),2)\n",
    "        cv2.imshow(\"Frame\",frame)\n",
    "        \n",
    "        if cv2.waitKey(2) == 13:\n",
    "            break\n",
    "cap.release()\n",
    "cv2.destroyAllWindows()"
   ]
  }
 ],
 "metadata": {
  "kernelspec": {
   "display_name": "Python 3",
   "language": "python",
   "name": "python3"
  },
  "language_info": {
   "codemirror_mode": {
    "name": "ipython",
    "version": 3
   },
   "file_extension": ".py",
   "mimetype": "text/x-python",
   "name": "python",
   "nbconvert_exporter": "python",
   "pygments_lexer": "ipython3",
   "version": "3.7.6"
  }
 },
 "nbformat": 4,
 "nbformat_minor": 4
}
