{
 "cells": [
  {
   "cell_type": "code",
   "execution_count": 2,
   "metadata": {},
   "outputs": [
    {
     "name": "stderr",
     "output_type": "stream",
     "text": [
      "C:\\Users\\Dell\\anaconda3\\lib\\site-packages\\tensorflow\\python\\framework\\dtypes.py:526: FutureWarning: Passing (type, 1) or '1type' as a synonym of type is deprecated; in a future version of numpy, it will be understood as (type, (1,)) / '(1,)type'.\n",
      "  _np_qint8 = np.dtype([(\"qint8\", np.int8, 1)])\n",
      "C:\\Users\\Dell\\anaconda3\\lib\\site-packages\\tensorflow\\python\\framework\\dtypes.py:527: FutureWarning: Passing (type, 1) or '1type' as a synonym of type is deprecated; in a future version of numpy, it will be understood as (type, (1,)) / '(1,)type'.\n",
      "  _np_quint8 = np.dtype([(\"quint8\", np.uint8, 1)])\n",
      "C:\\Users\\Dell\\anaconda3\\lib\\site-packages\\tensorflow\\python\\framework\\dtypes.py:528: FutureWarning: Passing (type, 1) or '1type' as a synonym of type is deprecated; in a future version of numpy, it will be understood as (type, (1,)) / '(1,)type'.\n",
      "  _np_qint16 = np.dtype([(\"qint16\", np.int16, 1)])\n",
      "C:\\Users\\Dell\\anaconda3\\lib\\site-packages\\tensorflow\\python\\framework\\dtypes.py:529: FutureWarning: Passing (type, 1) or '1type' as a synonym of type is deprecated; in a future version of numpy, it will be understood as (type, (1,)) / '(1,)type'.\n",
      "  _np_quint16 = np.dtype([(\"quint16\", np.uint16, 1)])\n",
      "C:\\Users\\Dell\\anaconda3\\lib\\site-packages\\tensorflow\\python\\framework\\dtypes.py:530: FutureWarning: Passing (type, 1) or '1type' as a synonym of type is deprecated; in a future version of numpy, it will be understood as (type, (1,)) / '(1,)type'.\n",
      "  _np_qint32 = np.dtype([(\"qint32\", np.int32, 1)])\n",
      "C:\\Users\\Dell\\anaconda3\\lib\\site-packages\\tensorflow\\python\\framework\\dtypes.py:535: FutureWarning: Passing (type, 1) or '1type' as a synonym of type is deprecated; in a future version of numpy, it will be understood as (type, (1,)) / '(1,)type'.\n",
      "  np_resource = np.dtype([(\"resource\", np.ubyte, 1)])\n"
     ]
    }
   ],
   "source": [
    "from tensorflow.keras.applications.mobilenet_v2 import preprocess_input\n",
    "from tensorflow.keras.preprocessing.image import img_to_array\n",
    "from tensorflow.keras.models import load_model\n",
    "from imutils.video import VideoStream\n",
    "import numpy as np\n",
    "import imutils\n",
    "import time\n",
    "import cv2\n",
    "import os\n",
    "import face_recognition\n",
    "from datetime import datetime\n"
   ]
  },
  {
   "cell_type": "code",
   "execution_count": 3,
   "metadata": {},
   "outputs": [],
   "source": [
    "# Mask Detector model"
   ]
  },
  {
   "cell_type": "code",
   "execution_count": 3,
   "metadata": {},
   "outputs": [],
   "source": [
    "def detectMask(frame, faceNet, maskNet):\n",
    "\n",
    "    (h, w) = frame.shape[:2]\n",
    "    blob = cv2.dnn.blobFromImage(frame, 1.0, (224, 224),(104.0, 177.0, 123.0))\n",
    "\n",
    "    faceNet.setInput(blob)\n",
    "    detections = faceNet.forward()\n",
    "    print(detections.shape)\n",
    "\n",
    "    faces = []\n",
    "    locs = []\n",
    "    preds = []\n",
    "\n",
    "\n",
    "    for i in range(0, detections.shape[2]):\n",
    "\n",
    "        confidence = detections[0, 0, i, 2]\n",
    "\n",
    "        if confidence > 0.5:\n",
    "\n",
    "            box = detections[0, 0, i, 3:7] * np.array([w, h, w, h])\n",
    "            (startX, startY, endX, endY) = box.astype(\"int\")\n",
    "            (startX, startY) = (max(0, startX), max(0, startY))\n",
    "            (endX, endY) = (min(w - 1, endX), min(h - 1, endY))\n",
    "\n",
    "            face = frame[startY:endY, startX:endX]\n",
    "            face = cv2.cvtColor(face, cv2.COLOR_BGR2RGB)\n",
    "            face = cv2.resize(face, (224, 224))\n",
    "            face = img_to_array(face)\n",
    "            face = preprocess_input(face)\n",
    "            faces.append(face)\n",
    "            locs.append((startX, startY, endX, endY))\n",
    "\n",
    "\n",
    "    if len(faces) > 0:\n",
    "\n",
    "        faces = np.array(faces, dtype=\"float32\")\n",
    "        preds = maskNet.predict(faces, batch_size=32)\n",
    "    return (locs, preds)"
   ]
  },
  {
   "cell_type": "code",
   "execution_count": 4,
   "metadata": {},
   "outputs": [],
   "source": [
    "pPath = r\"face_detector\\deploy.prototxt\"\n",
    "wPath = r\"face_detector\\res10_300x300_ssd_iter_140000.caffemodel\"\n",
    "faceDetect = cv2.dnn.readNet(pPath, wPath)"
   ]
  },
  {
   "cell_type": "code",
   "execution_count": 5,
   "metadata": {},
   "outputs": [
    {
     "name": "stdout",
     "output_type": "stream",
     "text": [
      "WARNING:tensorflow:From C:\\Users\\Dell\\anaconda3\\lib\\site-packages\\tensorflow\\python\\ops\\resource_variable_ops.py:435: colocate_with (from tensorflow.python.framework.ops) is deprecated and will be removed in a future version.\n",
      "Instructions for updating:\n",
      "Colocations handled automatically by placer.\n",
      "WARNING:tensorflow:From C:\\Users\\Dell\\anaconda3\\lib\\site-packages\\tensorflow\\python\\keras\\layers\\core.py:143: calling dropout (from tensorflow.python.ops.nn_ops) with keep_prob is deprecated and will be removed in a future version.\n",
      "Instructions for updating:\n",
      "Please use `rate` instead of `keep_prob`. Rate should be set to `rate = 1 - keep_prob`.\n",
      "WARNING:tensorflow:From C:\\Users\\Dell\\anaconda3\\lib\\site-packages\\tensorflow\\python\\ops\\math_ops.py:3066: to_int32 (from tensorflow.python.ops.math_ops) is deprecated and will be removed in a future version.\n",
      "Instructions for updating:\n",
      "Use tf.cast instead.\n"
     ]
    }
   ],
   "source": [
    "maskDetect = load_model(\"maskdetector.model\")"
   ]
  },
  {
   "cell_type": "code",
   "execution_count": 7,
   "metadata": {},
   "outputs": [],
   "source": [
    "# Fetch Database images "
   ]
  },
  {
   "cell_type": "code",
   "execution_count": 6,
   "metadata": {},
   "outputs": [
    {
     "name": "stdout",
     "output_type": "stream",
     "text": [
      "2022-03-25 22:05:48,696 INFO sqlalchemy.engine.base.Engine SHOW VARIABLES LIKE 'sql_mode'\n",
      "2022-03-25 22:05:48,697 INFO sqlalchemy.engine.base.Engine ()\n",
      "2022-03-25 22:05:48,698 INFO sqlalchemy.engine.base.Engine SHOW VARIABLES LIKE 'lower_case_table_names'\n",
      "2022-03-25 22:05:48,699 INFO sqlalchemy.engine.base.Engine ()\n",
      "2022-03-25 22:05:48,701 INFO sqlalchemy.engine.base.Engine SELECT DATABASE()\n",
      "2022-03-25 22:05:48,702 INFO sqlalchemy.engine.base.Engine ()\n",
      "2022-03-25 22:05:48,704 INFO sqlalchemy.engine.base.Engine show collation where `Charset` = 'utf8mb4' and `Collation` = 'utf8mb4_bin'\n",
      "2022-03-25 22:05:48,705 INFO sqlalchemy.engine.base.Engine ()\n",
      "2022-03-25 22:05:48,706 INFO sqlalchemy.engine.base.Engine SELECT CAST('test plain returns' AS CHAR(60)) AS anon_1\n",
      "2022-03-25 22:05:48,707 INFO sqlalchemy.engine.base.Engine ()\n",
      "2022-03-25 22:05:48,710 INFO sqlalchemy.engine.base.Engine SELECT CAST('test unicode returns' AS CHAR(60)) AS anon_1\n",
      "2022-03-25 22:05:48,711 INFO sqlalchemy.engine.base.Engine ()\n",
      "2022-03-25 22:05:48,713 INFO sqlalchemy.engine.base.Engine SELECT CAST('test collated returns' AS CHAR CHARACTER SET utf8mb4) COLLATE utf8mb4_bin AS anon_1\n",
      "2022-03-25 22:05:48,714 INFO sqlalchemy.engine.base.Engine ()\n"
     ]
    }
   ],
   "source": [
    "from sqlalchemy import create_engine\n",
    "engine = create_engine(\"mysql://root:@localhost/project\",echo = True)\n",
    "conn = engine.connect()\n"
   ]
  },
  {
   "cell_type": "code",
   "execution_count": 7,
   "metadata": {},
   "outputs": [
    {
     "name": "stdout",
     "output_type": "stream",
     "text": [
      "2022-03-25 22:05:53,016 INFO sqlalchemy.engine.base.Engine SELECT * FROM  register\n",
      "2022-03-25 22:05:53,017 INFO sqlalchemy.engine.base.Engine ()\n",
      "('jainamkothari14@gmail.com', 'Jainam Kothari', '9265213732', b'\\xff\\xd8\\xff\\xe0\\x00\\x10JFIF\\x00\\x01\\x01\\x01\\x00`\\x00`\\x00\\x00\\xff\\xdb\\x00C\\x00\\x03\\x02\\x02\\x03\\x02\\x02\\x03\\x03\\x03\\x03\\x04\\x03\\x03\\x04\\x05\\x08\\x05\\ ... (1438008 characters truncated) ... f\\xfc\\x04Uf\\xe9\\xff\\x00\\x02\\xa2\\x8a]@\\xb3\\xfc4[\\xff\\x00\\x1d\\x14Q\\xd4}P\\xd6\\xea)\\xc3\\xfdq\\xa2\\x8a}\\x00\\x07\\xdd\\xa7[\\xff\\x00\\xad4QR\"\\xbd\\x14QLg\\xff\\xd9')\n",
      "('jainamkothari14@gmail.com', 'Jainam Kothari', '9265213732', b'\\xff\\xd8\\xff\\xe0\\x00\\x10JFIF\\x00\\x01\\x01\\x01\\x00`\\x00`\\x00\\x00\\xff\\xdb\\x00C\\x00\\x03\\x02\\x02\\x03\\x02\\x02\\x03\\x03\\x03\\x03\\x04\\x03\\x03\\x04\\x05\\x08\\x05\\ ... (1438008 characters truncated) ... f\\xfc\\x04Uf\\xe9\\xff\\x00\\x02\\xa2\\x8a]@\\xb3\\xfc4[\\xff\\x00\\x1d\\x14Q\\xd4}P\\xd6\\xea)\\xc3\\xfdq\\xa2\\x8a}\\x00\\x07\\xdd\\xa7[\\xff\\x00\\xad4QR\"\\xbd\\x14QLg\\xff\\xd9')\n",
      "('bunhakunj86@gmail.com', 'Kunj Bunha', '16453656835', b'\\xff\\xd8\\xff\\xe1x9Exif\\x00\\x00II*\\x00\\x08\\x00\\x00\\x00\\x0c\\x00\\x00\\x01\\x04\\x00\\x01\\x00\\x00\\x00\\xf0\\x0e\\x00\\x00\\x01\\x01\\x04\\x00\\x01\\x00\\x00\\x004\\x0b\\x ... (2386024 characters truncated) ... 0\\x00\\x00\\x00\\x00\\x01\\nh\\x00\\x00\\x00#\\x00\\x00\\x00\\x00\\x00\\xa1\\nE\\x00\\x00\\x00\\x13\\x00\\x00\\x00\\x00\\x00\\x10\\t2\\x00\\x00\\x002\\x00\\x00\\x000\\x00\\x00\\x00SEFT')\n",
      "('dhvanil02@gmail.com', 'Dhvanil Prajapati', '1599413513', b'\\xff\\xd8\\xff\\xe0\\x00\\x10JFIF\\x00\\x01\\x01\\x00\\x00\\x01\\x00\\x01\\x00\\x00\\xff\\xdb\\x00C\\x00\\x01\\x01\\x01\\x01\\x01\\x01\\x01\\x01\\x01\\x01\\x01\\x01\\x01\\x01\\x01\\x0 ... (795144 characters truncated) ... x94D\\xa5)DJR\\x94D\\xa5)DJR\\x94D\\xa5)DJR\\x94D\\xa5)DJR\\x94D\\xa5)DJR\\x94D\\xa5)DJR\\x94D\\xa5)DJR\\x94D\\xa5)DJR\\x94D\\xa5)DJR\\x94D\\xa5)DJR\\x94D\\xa5)D_\\xff\\xd9')\n",
      "('pateldr056@gmail.com', 'Deep Patel', '4515212454', b'\\xff\\xd8\\xff\\xe1\\x02\\x12Exif\\x00\\x00MM\\x00*\\x00\\x00\\x00\\x08\\x00\\x08\\x01\\x00\\x00\\x03\\x00\\x00\\x00\\x01\\x03\\x88\\x00\\x00\\x01\\x10\\x00\\x02\\x00\\x00\\x00\\n\\x0 ... (613683 characters truncated) ... \\xb3s\\x14\\xaaFs\\xe5\\xe0\\x8f\\xd6\\xbe\\x8b\\xb1\\x866E\\x91\\x97$/\\x19\\xa2\\x8a\\xb5\\xb1\\xe7W\\xfe#\\x12\\xe2G\\x0f\\xbc\\x1cd\\x81\\x81\\xd2\\x8a(\\xa93\\x8e\\xc7\\xff\\xd9')\n"
     ]
    }
   ],
   "source": [
    "my_cursor=conn.execute(\"SELECT * FROM  register\")\n",
    "my_result=my_cursor.fetchall()\n",
    "for row  in my_result:\n",
    "    print(row)\n",
    "    fob=open(r'Database Images/'+ str(row[0])+'.jpeg','wb')\n",
    "    fob=fob.write(row[3])"
   ]
  },
  {
   "cell_type": "code",
   "execution_count": null,
   "metadata": {},
   "outputs": [],
   "source": []
  },
  {
   "cell_type": "code",
   "execution_count": null,
   "metadata": {},
   "outputs": [],
   "source": []
  },
  {
   "cell_type": "code",
   "execution_count": null,
   "metadata": {},
   "outputs": [],
   "source": []
  },
  {
   "cell_type": "code",
   "execution_count": null,
   "metadata": {},
   "outputs": [],
   "source": [
    "\n"
   ]
  },
  {
   "cell_type": "code",
   "execution_count": 10,
   "metadata": {},
   "outputs": [],
   "source": [
    "# Face Recognition"
   ]
  },
  {
   "cell_type": "code",
   "execution_count": 8,
   "metadata": {},
   "outputs": [
    {
     "name": "stdout",
     "output_type": "stream",
     "text": [
      "['bunhakunj86@gmail.com.jpeg', 'dhvanil02@gmail.com.jpeg', 'jainamkothari14@gmail.com.jpeg', 'pateldr056@gmail.com.jpeg']\n"
     ]
    }
   ],
   "source": [
    "path=r\"Database Images\"\n",
    "personimages=[]\n",
    "emails=[]\n",
    "imagelist=os.listdir(path)\n",
    "print(imagelist)"
   ]
  },
  {
   "cell_type": "code",
   "execution_count": 9,
   "metadata": {},
   "outputs": [
    {
     "name": "stdout",
     "output_type": "stream",
     "text": [
      "['bunhakunj86@gmail.com', 'dhvanil02@gmail.com', 'jainamkothari14@gmail.com', 'pateldr056@gmail.com']\n"
     ]
    }
   ],
   "source": [
    "for current_img in imagelist:\n",
    "    current=cv2.imread(f'{path}/{current_img}')\n",
    "#     print(current)\n",
    "    personimages.append(current)\n",
    "    name=os.path.splitext(current_img)\n",
    "#     print(name[0])\n",
    "    emails.append(name[0])\n",
    "\n",
    "print(emails)"
   ]
  },
  {
   "cell_type": "code",
   "execution_count": 10,
   "metadata": {},
   "outputs": [],
   "source": [
    "def faceEncodings(images):\n",
    "    encodeList=[]\n",
    "    count=0\n",
    "    for img in images:\n",
    "        print(\"Generating Encodings for Image No : \",count)\n",
    "        count=count+1\n",
    "        img=cv2.cvtColor(img, cv2.COLOR_BGR2RGB)\n",
    "        encode=face_recognition.face_encodings(img)[0]\n",
    "        encodeList.append(encode)\n",
    "    return encodeList"
   ]
  },
  {
   "cell_type": "code",
   "execution_count": 11,
   "metadata": {},
   "outputs": [],
   "source": [
    "def addLog(email):\n",
    "\n",
    "    with open('Log.csv','r+') as f:\n",
    "        myDataList = f.readlines()\n",
    "        emailList = []\n",
    "\n",
    "        for line in f:\n",
    "            entry = line.split(',')\n",
    "            emailList.append(entry[0])\n",
    "        temp=\"\"\n",
    "        if email not in emailList:\n",
    "            time_now = datetime.now()\n",
    "            time= time_now.strftime('%H:%M:%S')\n",
    "            date= time_now.strftime('%d/%m/%Y')\n",
    "            f.writelines(f'\\n{temp},{email},{time},{date}')\n",
    "        "
   ]
  },
  {
   "cell_type": "code",
   "execution_count": 12,
   "metadata": {},
   "outputs": [],
   "source": [
    "import matplotlib.pyplot as plt\n",
    "import matplotlib.image as i\n",
    "from PIL import Image as im\n",
    "import pandas as pd"
   ]
  },
  {
   "cell_type": "code",
   "execution_count": 13,
   "metadata": {},
   "outputs": [
    {
     "name": "stdout",
     "output_type": "stream",
     "text": [
      "Generating Encodings for Image No :  0\n",
      "Generating Encodings for Image No :  1\n",
      "Generating Encodings for Image No :  2\n",
      "Generating Encodings for Image No :  3\n",
      "All Encodings completed : \n",
      "(1, 1, 200, 7)\n",
      "(1, 1, 200, 7)\n",
      "(1, 1, 200, 7)\n",
      "(1, 1, 200, 7)\n",
      "(1, 1, 200, 7)\n",
      "(1, 1, 200, 7)\n",
      "(1, 1, 200, 7)\n",
      "(1, 1, 200, 7)\n",
      "(1, 1, 200, 7)\n",
      "(1, 1, 200, 7)\n",
      "(1, 1, 200, 7)\n",
      "(1, 1, 200, 7)\n",
      "(1, 1, 200, 7)\n",
      "(1, 1, 200, 7)\n",
      "(1, 1, 200, 7)\n",
      "(1, 1, 200, 7)\n",
      "(1, 1, 200, 7)\n",
      "(1, 1, 200, 7)\n",
      "(1, 1, 200, 7)\n",
      "(1, 1, 200, 7)\n",
      "(1, 1, 200, 7)\n",
      "(1, 1, 200, 7)\n",
      "(1, 1, 200, 7)\n",
      "(1, 1, 200, 7)\n",
      "(1, 1, 200, 7)\n",
      "(1, 1, 200, 7)\n",
      "(1, 1, 200, 7)\n",
      "(1, 1, 200, 7)\n",
      "(1, 1, 200, 7)\n",
      "(1, 1, 200, 7)\n",
      "(1, 1, 200, 7)\n",
      "(1, 1, 200, 7)\n",
      "(1, 1, 200, 7)\n",
      "(1, 1, 200, 7)\n",
      "(1, 1, 200, 7)\n",
      "(1, 1, 200, 7)\n",
      "(1, 1, 200, 7)\n",
      "(1, 1, 200, 7)\n",
      "(1, 1, 200, 7)\n",
      "(1, 1, 200, 7)\n",
      "JAINAMKOTHARI14@GMAIL.COM\n",
      "(1, 1, 200, 7)\n",
      "(1, 1, 200, 7)\n",
      "(1, 1, 200, 7)\n",
      "(1, 1, 200, 7)\n",
      "JAINAMKOTHARI14@GMAIL.COM\n",
      "(1, 1, 200, 7)\n",
      "(1, 1, 200, 7)\n",
      "(1, 1, 200, 7)\n",
      "(1, 1, 200, 7)\n",
      "(1, 1, 200, 7)\n",
      "(1, 1, 200, 7)\n",
      "(1, 1, 200, 7)\n",
      "(1, 1, 200, 7)\n",
      "(1, 1, 200, 7)\n",
      "(1, 1, 200, 7)\n",
      "(1, 1, 200, 7)\n",
      "(1, 1, 200, 7)\n",
      "(1, 1, 200, 7)\n",
      "(1, 1, 200, 7)\n",
      "(1, 1, 200, 7)\n",
      "JAINAMKOTHARI14@GMAIL.COM\n",
      "(1, 1, 200, 7)\n",
      "JAINAMKOTHARI14@GMAIL.COM\n",
      "(1, 1, 200, 7)\n",
      "JAINAMKOTHARI14@GMAIL.COM\n",
      "(1, 1, 200, 7)\n",
      "(1, 1, 200, 7)\n",
      "(1, 1, 200, 7)\n",
      "JAINAMKOTHARI14@GMAIL.COM\n",
      "(1, 1, 200, 7)\n",
      "JAINAMKOTHARI14@GMAIL.COM\n",
      "(1, 1, 200, 7)\n",
      "JAINAMKOTHARI14@GMAIL.COM\n",
      "(1, 1, 200, 7)\n",
      "JAINAMKOTHARI14@GMAIL.COM\n",
      "(1, 1, 200, 7)\n",
      "(1, 1, 200, 7)\n",
      "(1, 1, 200, 7)\n",
      "(1, 1, 200, 7)\n",
      "(1, 1, 200, 7)\n",
      "(1, 1, 200, 7)\n",
      "(1, 1, 200, 7)\n",
      "(1, 1, 200, 7)\n",
      "(1, 1, 200, 7)\n",
      "(1, 1, 200, 7)\n",
      "(1, 1, 200, 7)\n",
      "(1, 1, 200, 7)\n",
      "(1, 1, 200, 7)\n",
      "(1, 1, 200, 7)\n",
      "(1, 1, 200, 7)\n",
      "(1, 1, 200, 7)\n",
      "(1, 1, 200, 7)\n",
      "(1, 1, 200, 7)\n",
      "(1, 1, 200, 7)\n",
      "(1, 1, 200, 7)\n",
      "(1, 1, 200, 7)\n",
      "(1, 1, 200, 7)\n",
      "(1, 1, 200, 7)\n",
      "(1, 1, 200, 7)\n",
      "(1, 1, 200, 7)\n",
      "BUNHAKUNJ86@GMAIL.COM\n",
      "(1, 1, 200, 7)\n",
      "BUNHAKUNJ86@GMAIL.COM\n",
      "(1, 1, 200, 7)\n",
      "BUNHAKUNJ86@GMAIL.COM\n",
      "(1, 1, 200, 7)\n",
      "BUNHAKUNJ86@GMAIL.COM\n",
      "(1, 1, 200, 7)\n",
      "BUNHAKUNJ86@GMAIL.COM\n",
      "(1, 1, 200, 7)\n",
      "(1, 1, 200, 7)\n",
      "(1, 1, 200, 7)\n",
      "(1, 1, 200, 7)\n",
      "(1, 1, 200, 7)\n",
      "(1, 1, 200, 7)\n",
      "(1, 1, 200, 7)\n",
      "(1, 1, 200, 7)\n",
      "(1, 1, 200, 7)\n",
      "BUNHAKUNJ86@GMAIL.COM\n",
      "BUNHAKUNJ86@GMAIL.COM\n",
      "(1, 1, 200, 7)\n",
      "BUNHAKUNJ86@GMAIL.COM\n",
      "(1, 1, 200, 7)\n",
      "(1, 1, 200, 7)\n",
      "(1, 1, 200, 7)\n",
      "(1, 1, 200, 7)\n",
      "BUNHAKUNJ86@GMAIL.COM\n",
      "(1, 1, 200, 7)\n",
      "BUNHAKUNJ86@GMAIL.COM\n",
      "(1, 1, 200, 7)\n",
      "BUNHAKUNJ86@GMAIL.COM\n",
      "(1, 1, 200, 7)\n",
      "(1, 1, 200, 7)\n",
      "(1, 1, 200, 7)\n",
      "(1, 1, 200, 7)\n",
      "(1, 1, 200, 7)\n",
      "(1, 1, 200, 7)\n",
      "(1, 1, 200, 7)\n",
      "BUNHAKUNJ86@GMAIL.COM\n",
      "(1, 1, 200, 7)\n",
      "BUNHAKUNJ86@GMAIL.COM\n",
      "(1, 1, 200, 7)\n",
      "JAINAMKOTHARI14@GMAIL.COM\n",
      "(1, 1, 200, 7)\n",
      "(1, 1, 200, 7)\n",
      "JAINAMKOTHARI14@GMAIL.COM\n",
      "(1, 1, 200, 7)\n",
      "(1, 1, 200, 7)\n",
      "(1, 1, 200, 7)\n",
      "(1, 1, 200, 7)\n",
      "JAINAMKOTHARI14@GMAIL.COM\n",
      "(1, 1, 200, 7)\n",
      "JAINAMKOTHARI14@GMAIL.COM\n",
      "(1, 1, 200, 7)\n",
      "JAINAMKOTHARI14@GMAIL.COM\n",
      "(1, 1, 200, 7)\n",
      "JAINAMKOTHARI14@GMAIL.COM\n",
      "(1, 1, 200, 7)\n",
      "JAINAMKOTHARI14@GMAIL.COM\n",
      "(1, 1, 200, 7)\n",
      "JAINAMKOTHARI14@GMAIL.COM\n",
      "(1, 1, 200, 7)\n",
      "JAINAMKOTHARI14@GMAIL.COM\n",
      "(1, 1, 200, 7)\n",
      "JAINAMKOTHARI14@GMAIL.COM\n",
      "(1, 1, 200, 7)\n",
      "JAINAMKOTHARI14@GMAIL.COM\n",
      "(1, 1, 200, 7)\n",
      "JAINAMKOTHARI14@GMAIL.COM\n",
      "(1, 1, 200, 7)\n",
      "JAINAMKOTHARI14@GMAIL.COM\n",
      "DHVANIL02@GMAIL.COM\n",
      "DHVANIL02@GMAIL.COM\n",
      "(1, 1, 200, 7)\n",
      "DHVANIL02@GMAIL.COM\n",
      "(1, 1, 200, 7)\n",
      "DHVANIL02@GMAIL.COM\n",
      "(1, 1, 200, 7)\n",
      "DHVANIL02@GMAIL.COM\n",
      "(1, 1, 200, 7)\n",
      "DHVANIL02@GMAIL.COM\n",
      "(1, 1, 200, 7)\n",
      "DHVANIL02@GMAIL.COM\n",
      "(1, 1, 200, 7)\n",
      "DHVANIL02@GMAIL.COM\n",
      "(1, 1, 200, 7)\n",
      "DHVANIL02@GMAIL.COM\n",
      "(1, 1, 200, 7)\n",
      "(1, 1, 200, 7)\n",
      "(1, 1, 200, 7)\n",
      "(1, 1, 200, 7)\n",
      "(1, 1, 200, 7)\n",
      "(1, 1, 200, 7)\n",
      "PATELDR056@GMAIL.COM\n",
      "JAINAMKOTHARI14@GMAIL.COM\n",
      "PATELDR056@GMAIL.COM\n",
      "JAINAMKOTHARI14@GMAIL.COM\n",
      "(1, 1, 200, 7)\n",
      "PATELDR056@GMAIL.COM\n",
      "PATELDR056@GMAIL.COM\n",
      "(1, 1, 200, 7)\n",
      "PATELDR056@GMAIL.COM\n",
      "PATELDR056@GMAIL.COM\n",
      "(1, 1, 200, 7)\n",
      "PATELDR056@GMAIL.COM\n",
      "JAINAMKOTHARI14@GMAIL.COM\n",
      "PATELDR056@GMAIL.COM\n",
      "JAINAMKOTHARI14@GMAIL.COM\n"
     ]
    }
   ],
   "source": [
    "enc=faceEncodings(personimages)\n",
    "print(\"All Encodings completed : \")\n",
    "\n",
    "capture=cv2.VideoCapture(0)\n",
    "while True:\n",
    "    flag,frame=capture.read()\n",
    "    if flag:\n",
    "        frame=imutils.resize(frame,width=600)\n",
    "        (locs, preds) = detectMask(frame, faceDetect, maskDetect)\n",
    "        for (box, pred) in zip(locs, preds):\n",
    "    \n",
    "            (startX, startY, endX, endY) = box\n",
    "            (mask, withoutMask) = pred\n",
    "            \n",
    "            if mask > withoutMask:\n",
    "                label = \"Mask\"\n",
    "            else:\n",
    "                label=\"No Mask\"\n",
    "                \n",
    "            if label == \"Mask\":\n",
    "                color = (0, 255, 0) \n",
    "                cv2.putText(frame, label, (startX, startY - 10), cv2.FONT_HERSHEY_SIMPLEX, 0.45, color, 2)\n",
    "                cv2.rectangle(frame, (startX, startY), (endX, endY), color, 2)\n",
    "                \n",
    "            else :\n",
    "                color = (0, 0, 255)\n",
    "                faces=cv2.resize(frame,(0,0),None,0.25,0.25)\n",
    "                faces=cv2.cvtColor(faces,cv2.COLOR_BGR2RGB)\n",
    "#                 plt.imshow(faces)\n",
    "                facesCurrentFrame = face_recognition.face_locations(faces)\n",
    "                encodesCurrentFrame = face_recognition.face_encodings(faces,facesCurrentFrame)\n",
    "#                 print(faces)\n",
    "                for encodeFace,faceLoc in zip(encodesCurrentFrame,facesCurrentFrame) : \n",
    "\n",
    "                    matches = face_recognition.compare_faces(enc,encodeFace)\n",
    "                    faceDis = face_recognition.face_distance(enc,encodeFace)\n",
    "\n",
    "                    matchIndex = np.argmin(faceDis)\n",
    "\n",
    "                    if matches[matchIndex] : \n",
    "                        name=emails[matchIndex].upper()\n",
    "                        print(name)\n",
    "                        data = im.fromarray(faces)\n",
    "                        data.save(r'Detected/'+name.lower()+'.jpeg')\n",
    "#                         fob=open(r'C:\\Users\\Dell\\Desktop\\Jainam docs\\Deteccion de mascara\\Database Images/'+name+'.jpeg','wb')\n",
    "#                         fob=fob.write(row[3])\n",
    "#                         mail=conn.execute(\"INSERT INTO  images(email,img) VALUES (%s,%s)\",name,faces.read())\n",
    "#                         print(\"Row Added  = \",mail.rowcount)\n",
    "                        text=label\n",
    "                        cv2.putText(frame, text, (startX, startY - 10), cv2.FONT_HERSHEY_SIMPLEX, 0.45, color, 2)\n",
    "                        cv2.rectangle(frame, (startX, startY), (endX, endY), color, 2)\n",
    "                        addLog(name)            \n",
    "            \n",
    "        cv2.imshow(\"Live Video\",frame)\n",
    "        if cv2.waitKey(2) == 27:\n",
    "            break\n",
    "capture.release()\n",
    "cv2.destroyAllWindows()"
   ]
  },
  {
   "cell_type": "code",
   "execution_count": 14,
   "metadata": {},
   "outputs": [],
   "source": [
    "data=pd.read_csv('Log.csv')\n",
    "data = data.sort_values(by = ['date', 'time'], ascending = [False, False])\n",
    "data.drop_duplicates(subset=\"email\",inplace=True)\n",
    "# data\n",
    "data.to_csv('FinalLog.csv')"
   ]
  },
  {
   "cell_type": "code",
   "execution_count": null,
   "metadata": {},
   "outputs": [],
   "source": []
  },
  {
   "cell_type": "code",
   "execution_count": null,
   "metadata": {},
   "outputs": [],
   "source": []
  },
  {
   "cell_type": "code",
   "execution_count": null,
   "metadata": {},
   "outputs": [],
   "source": []
  },
  {
   "cell_type": "code",
   "execution_count": null,
   "metadata": {},
   "outputs": [],
   "source": []
  },
  {
   "cell_type": "code",
   "execution_count": 15,
   "metadata": {},
   "outputs": [],
   "source": []
  }
 ],
 "metadata": {
  "kernelspec": {
   "display_name": "Python 3",
   "language": "python",
   "name": "python3"
  },
  "language_info": {
   "codemirror_mode": {
    "name": "ipython",
    "version": 3
   },
   "file_extension": ".py",
   "mimetype": "text/x-python",
   "name": "python",
   "nbconvert_exporter": "python",
   "pygments_lexer": "ipython3",
   "version": "3.7.6"
  }
 },
 "nbformat": 4,
 "nbformat_minor": 4
}
