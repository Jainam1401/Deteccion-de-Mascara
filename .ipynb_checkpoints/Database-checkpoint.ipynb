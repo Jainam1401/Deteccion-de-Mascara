{
 "cells": [
  {
   "cell_type": "code",
   "execution_count": 1,
   "metadata": {},
   "outputs": [
    {
     "name": "stdout",
     "output_type": "stream",
     "text": [
      "2022-03-17 17:32:50,513 INFO sqlalchemy.engine.base.Engine SHOW VARIABLES LIKE 'sql_mode'\n",
      "2022-03-17 17:32:50,515 INFO sqlalchemy.engine.base.Engine ()\n",
      "2022-03-17 17:32:50,517 INFO sqlalchemy.engine.base.Engine SHOW VARIABLES LIKE 'lower_case_table_names'\n",
      "2022-03-17 17:32:50,517 INFO sqlalchemy.engine.base.Engine ()\n",
      "2022-03-17 17:32:50,520 INFO sqlalchemy.engine.base.Engine SELECT DATABASE()\n",
      "2022-03-17 17:32:50,521 INFO sqlalchemy.engine.base.Engine ()\n",
      "2022-03-17 17:32:50,522 INFO sqlalchemy.engine.base.Engine show collation where `Charset` = 'utf8mb4' and `Collation` = 'utf8mb4_bin'\n",
      "2022-03-17 17:32:50,523 INFO sqlalchemy.engine.base.Engine ()\n",
      "2022-03-17 17:32:50,525 INFO sqlalchemy.engine.base.Engine SELECT CAST('test plain returns' AS CHAR(60)) AS anon_1\n",
      "2022-03-17 17:32:50,526 INFO sqlalchemy.engine.base.Engine ()\n",
      "2022-03-17 17:32:50,527 INFO sqlalchemy.engine.base.Engine SELECT CAST('test unicode returns' AS CHAR(60)) AS anon_1\n",
      "2022-03-17 17:32:50,528 INFO sqlalchemy.engine.base.Engine ()\n",
      "2022-03-17 17:32:50,530 INFO sqlalchemy.engine.base.Engine SELECT CAST('test collated returns' AS CHAR CHARACTER SET utf8mb4) COLLATE utf8mb4_bin AS anon_1\n",
      "2022-03-17 17:32:50,531 INFO sqlalchemy.engine.base.Engine ()\n"
     ]
    }
   ],
   "source": [
    "from sqlalchemy import create_engine\n",
    "engine = create_engine(\"mysql://root:@localhost/test\",echo = True)\n",
    "conn = engine.connect()\n"
   ]
  },
  {
   "cell_type": "code",
   "execution_count": 3,
   "metadata": {},
   "outputs": [],
   "source": [
    "def getimages():\n",
    "    \n",
    "    my_cursor=conn.execute(\"SELECT * FROM  images\")\n",
    "    my_result=my_cursor.fetchall()\n",
    "    for row  in my_result:\n",
    "        print(row)\n",
    "        fob=open(r'C:\\Users\\Dell\\Desktop\\Jainam docs\\Deteccion de mascara\\Database Images/'+ str(row[0])+'.jpeg','wb')\n",
    "        fob=fob.write(row[1])\n",
    "        file_like2 = io.BytesIO(data2[0][1])\n"
   ]
  },
  {
   "cell_type": "code",
   "execution_count": null,
   "metadata": {},
   "outputs": [],
   "source": [
    "import mysql.connector\n",
    "import io\n",
    "from PIL import Image\n",
    "connection= mysql.connector.connect(\n",
    "    host =\"localhost\",\n",
    "    user =\"root\",\n",
    "    passwd =\"\",\n",
    "    database = \"test\",\n",
    "    )\n",
    "cursor=connection.cursor()\n",
    "sql1 = \"SELECT * FROM test\"\n",
    "cursor.execute(sql1)\n",
    "data2 = cursor.fetchall()\n",
    "print(data2.len())\n",
    "file_like2 = io.BytesIO(data2[0][1])\n",
    "img1=Image.open(file_like2)\n",
    "img1.show()\n",
    "cursor.close()\n",
    "connection.close()"
   ]
  },
  {
   "cell_type": "code",
   "execution_count": 1,
   "metadata": {},
   "outputs": [
    {
     "name": "stdout",
     "output_type": "stream",
     "text": [
      "2022-03-18 18:58:28,068 INFO sqlalchemy.engine.base.Engine SHOW VARIABLES LIKE 'sql_mode'\n",
      "2022-03-18 18:58:28,073 INFO sqlalchemy.engine.base.Engine ()\n",
      "2022-03-18 18:58:28,076 INFO sqlalchemy.engine.base.Engine SHOW VARIABLES LIKE 'lower_case_table_names'\n",
      "2022-03-18 18:58:28,076 INFO sqlalchemy.engine.base.Engine ()\n",
      "2022-03-18 18:58:28,080 INFO sqlalchemy.engine.base.Engine SELECT DATABASE()\n",
      "2022-03-18 18:58:28,082 INFO sqlalchemy.engine.base.Engine ()\n",
      "2022-03-18 18:58:28,083 INFO sqlalchemy.engine.base.Engine show collation where `Charset` = 'utf8mb4' and `Collation` = 'utf8mb4_bin'\n",
      "2022-03-18 18:58:28,085 INFO sqlalchemy.engine.base.Engine ()\n",
      "2022-03-18 18:58:28,089 INFO sqlalchemy.engine.base.Engine SELECT CAST('test plain returns' AS CHAR(60)) AS anon_1\n",
      "2022-03-18 18:58:28,091 INFO sqlalchemy.engine.base.Engine ()\n",
      "2022-03-18 18:58:28,094 INFO sqlalchemy.engine.base.Engine SELECT CAST('test unicode returns' AS CHAR(60)) AS anon_1\n",
      "2022-03-18 18:58:28,096 INFO sqlalchemy.engine.base.Engine ()\n",
      "2022-03-18 18:58:28,099 INFO sqlalchemy.engine.base.Engine SELECT CAST('test collated returns' AS CHAR CHARACTER SET utf8mb4) COLLATE utf8mb4_bin AS anon_1\n",
      "2022-03-18 18:58:28,101 INFO sqlalchemy.engine.base.Engine ()\n"
     ]
    }
   ],
   "source": [
    "from sqlalchemy import create_engine\n",
    "engine = create_engine(\"mysql://root:@localhost/project\",echo = True)\n",
    "conn = engine.connect()"
   ]
  },
  {
   "cell_type": "code",
   "execution_count": 2,
   "metadata": {
    "scrolled": true
   },
   "outputs": [
    {
     "name": "stdout",
     "output_type": "stream",
     "text": [
      "2022-03-18 18:58:54,134 INFO sqlalchemy.engine.base.Engine INSERT INTO  images(email,img) VALUES (%s,%s)\n",
      "2022-03-18 18:58:54,135 INFO sqlalchemy.engine.base.Engine ('bunhakunj86@gmail.com', b'\\xff\\xd8\\xff\\xe1x9Exif\\x00\\x00II*\\x00\\x08\\x00\\x00\\x00\\x0c\\x00\\x00\\x01\\x04\\x00\\x01\\x00\\x00\\x00\\xf0\\x0e\\x00\\x00\\x01\\x01\\x04\\x00\\x01\\x00\\x00\\x004\\x0b\\x ... (2386024 characters truncated) ... 0\\x00\\x00\\x00\\x00\\x01\\nh\\x00\\x00\\x00#\\x00\\x00\\x00\\x00\\x00\\xa1\\nE\\x00\\x00\\x00\\x13\\x00\\x00\\x00\\x00\\x00\\x10\\t2\\x00\\x00\\x002\\x00\\x00\\x000\\x00\\x00\\x00SEFT')\n",
      "2022-03-18 18:58:55,235 INFO sqlalchemy.engine.base.Engine COMMIT\n",
      "Row Added  =  1\n"
     ]
    }
   ],
   "source": [
    "fob=open(r'C:\\Users\\Dell\\Desktop\\Jainam docs\\Deteccion de mascara\\Recognition images\\Kunj.jpeg','rb')\n",
    "fob=fob.read()\n",
    "data=('bunhakunj86@gmail.com',fob)\n",
    "mail=conn.execute(\"INSERT INTO  images(email,img) VALUES (%s,%s)\",data)\n",
    "print(\"Row Added  = \",mail.rowcount)"
   ]
  },
  {
   "cell_type": "code",
   "execution_count": 3,
   "metadata": {},
   "outputs": [
    {
     "name": "stdout",
     "output_type": "stream",
     "text": [
      "2022-03-18 19:07:32,715 INFO sqlalchemy.engine.base.Engine INSERT INTO  images(email,img) VALUES (%s,%s)\n",
      "2022-03-18 19:07:32,717 INFO sqlalchemy.engine.base.Engine ('jainamkothari14@gmail.com', b'\\xff\\xd8\\xff\\xe0\\x00\\x10JFIF\\x00\\x01\\x01\\x01\\x00`\\x00`\\x00\\x00\\xff\\xdb\\x00C\\x00\\x03\\x02\\x02\\x03\\x02\\x02\\x03\\x03\\x03\\x03\\x04\\x03\\x03\\x04\\x05\\x08\\x05\\ ... (1438008 characters truncated) ... f\\xfc\\x04Uf\\xe9\\xff\\x00\\x02\\xa2\\x8a]@\\xb3\\xfc4[\\xff\\x00\\x1d\\x14Q\\xd4}P\\xd6\\xea)\\xc3\\xfdq\\xa2\\x8a}\\x00\\x07\\xdd\\xa7[\\xff\\x00\\xad4QR\"\\xbd\\x14QLg\\xff\\xd9')\n",
      "2022-03-18 19:07:32,816 INFO sqlalchemy.engine.base.Engine COMMIT\n",
      "Row Added  =  1\n"
     ]
    }
   ],
   "source": [
    "fob=open(r'C:\\Users\\Dell\\Desktop\\Jainam docs\\Deteccion de mascara\\Recognition images\\Jainam.jpeg','rb')\n",
    "fob=fob.read()\n",
    "data=('jainamkothari14@gmail.com',fob)\n",
    "mail=conn.execute(\"INSERT INTO  images(email,img) VALUES (%s,%s)\",data)\n",
    "print(\"Row Added  = \",mail.rowcount)"
   ]
  }
 ],
 "metadata": {
  "kernelspec": {
   "display_name": "Python 3",
   "language": "python",
   "name": "python3"
  },
  "language_info": {
   "codemirror_mode": {
    "name": "ipython",
    "version": 3
   },
   "file_extension": ".py",
   "mimetype": "text/x-python",
   "name": "python",
   "nbconvert_exporter": "python",
   "pygments_lexer": "ipython3",
   "version": "3.7.6"
  }
 },
 "nbformat": 4,
 "nbformat_minor": 4
}
